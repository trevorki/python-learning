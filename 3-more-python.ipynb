{
 "cells": [
  {
   "cell_type": "markdown",
   "id": "06816866-a93b-44f8-b81e-ff8b0220bbc8",
   "metadata": {},
   "source": [
    "# More Python\n"
   ]
  },
  {
   "cell_type": "code",
   "execution_count": null,
   "id": "c0c5f702-f68a-4722-92a7-a0f1f4fc7b8b",
   "metadata": {},
   "outputs": [],
   "source": []
  },
  {
   "cell_type": "markdown",
   "id": "c851f3d5-a81e-4ffb-9752-cce10cafe0fb",
   "metadata": {},
   "source": [
    "# File I/O\n",
    "The general idea is you need to open a file pointer then write to it, then close it. This is simple to grasp but can lead to problems if you forget to close the file pointer or if the program crashes for some other reason. \n",
    "\n",
    "### Text files"
   ]
  },
  {
   "cell_type": "code",
   "execution_count": 1,
   "id": "08014239-3aea-45e8-8bf1-0196fc3e6a6b",
   "metadata": {},
   "outputs": [],
   "source": [
    "text = \"Hello from inside a text file\"\n",
    "filepath = \"temp/text.txt\""
   ]
  },
  {
   "cell_type": "code",
   "execution_count": 2,
   "id": "d45251f6-98d9-4f00-b089-d7486e9d1230",
   "metadata": {},
   "outputs": [],
   "source": [
    "# BAD way. It works but is  dangerous\n",
    "f = open(filepath, \"w\")\n",
    "f.write(text)\n",
    "f.close()"
   ]
  },
  {
   "cell_type": "markdown",
   "id": "39b5a14b-d8fa-4bed-b39a-605d2a52a916",
   "metadata": {},
   "source": [
    "A better way is to use the context manager, which will open the file pointer `f` only for the indented code after the `with .... as f:`"
   ]
  },
  {
   "cell_type": "code",
   "execution_count": 3,
   "id": "a21efd6f-76cc-4354-af6b-8bd3698dd945",
   "metadata": {},
   "outputs": [],
   "source": [
    "# BETTER way, using context manager\n",
    "with open(filepath, \"w\") as f:   # \"w\" means open in \"write\" mode\n",
    "    f.write(text)"
   ]
  },
  {
   "cell_type": "markdown",
   "id": "2bb66f1b-b555-45f7-beb9-5786a4eead2c",
   "metadata": {},
   "source": [
    "Check to see if it worked by loading the file"
   ]
  },
  {
   "cell_type": "code",
   "execution_count": 4,
   "id": "3070e625-9011-410b-8b88-30154b486800",
   "metadata": {},
   "outputs": [
    {
     "data": {
      "text/plain": [
       "'Hello from inside a text file'"
      ]
     },
     "execution_count": 4,
     "metadata": {},
     "output_type": "execute_result"
    }
   ],
   "source": [
    "with open(filepath, \"r\") as f:   # \"r\" means open in \"read\" mode\n",
    "    text_from_file = f.read()\n",
    "\n",
    "text_from_file"
   ]
  },
  {
   "cell_type": "markdown",
   "id": "49348edf-59ec-4065-94bc-4e5b540b2595",
   "metadata": {},
   "source": [
    "### JSON files\n",
    "JSON files are essentially text files, but are formatted to me both human and machine readable. \n",
    "\n",
    "We can go back and forth from python dictionary to JSON file using `json.dump()` and `json.load()`."
   ]
  },
  {
   "cell_type": "code",
   "execution_count": 5,
   "id": "3459d681-a99c-49e4-890d-2c97c1098da8",
   "metadata": {},
   "outputs": [],
   "source": [
    "import json\n",
    "\n",
    "player = {\n",
    "    'name': 'Elias Petterson',\n",
    "    'team': 'Vancouver Canucks',\n",
    "    'age': 24,\n",
    "    'birth_country': 'Sweden'\n",
    "}"
   ]
  },
  {
   "cell_type": "code",
   "execution_count": 6,
   "id": "1b18d0f6-adb0-4df8-a6b4-deff1058b670",
   "metadata": {},
   "outputs": [],
   "source": [
    "# save dict to json file with `json.dump()`\n",
    "json_filepath = \"temp/player.json\"\n",
    "\n",
    "with open(json_filepath, \"w\") as f:     # Specifying `indent = 2` makes each item appear on a new line indented by 2\n",
    "    json.dump(player, f, indent = 2)"
   ]
  },
  {
   "cell_type": "code",
   "execution_count": 7,
   "id": "f9bd8280-91b1-437c-8db8-da788ce20723",
   "metadata": {},
   "outputs": [
    {
     "data": {
      "text/plain": [
       "{'name': 'Elias Petterson',\n",
       " 'team': 'Vancouver Canucks',\n",
       " 'age': 24,\n",
       " 'birth_country': 'Sweden'}"
      ]
     },
     "execution_count": 7,
     "metadata": {},
     "output_type": "execute_result"
    }
   ],
   "source": [
    "# read json file as dict with `json.load()`. \n",
    "\n",
    "with open(json_filepath) as f:\n",
    "    player_from_file = json.load(f)\n",
    "player_from_file"
   ]
  },
  {
   "cell_type": "markdown",
   "id": "23cf0152-8544-4490-9a6d-5c35322f7ed8",
   "metadata": {},
   "source": [
    "#### Dictionaries and strings\n",
    "We can also go back and forth between dictionary and string using `json.dumps()` and `json.loads()`  (the `s` is for string)."
   ]
  },
  {
   "cell_type": "code",
   "execution_count": 8,
   "id": "f99ddc66-c5a7-4eba-9ecc-c8d37e4c013d",
   "metadata": {},
   "outputs": [
    {
     "name": "stdout",
     "output_type": "stream",
     "text": [
      "{\"name\": \"JT Miller\", \"team\": \"Vancouver Canucks\", \"age\": 29, \"birth_country\": \"USA\"}\n"
     ]
    },
    {
     "data": {
      "text/plain": [
       "str"
      ]
     },
     "execution_count": 8,
     "metadata": {},
     "output_type": "execute_result"
    }
   ],
   "source": [
    "player = {\"name\": \"JT Miller\", \"team\": \"Vancouver Canucks\", \"age\": 29, \"birth_country\": \"USA\"}\n",
    "\n",
    "# dump a dictionary to a plain string\n",
    "print(json.dumps(player))\n",
    "type(json.dumps(player))"
   ]
  },
  {
   "cell_type": "code",
   "execution_count": 9,
   "id": "5b2a2f3f-aa6a-4c77-9863-8bf0531cef51",
   "metadata": {},
   "outputs": [
    {
     "data": {
      "text/plain": [
       "'{\\n  \"name\": \"JT Miller\",\\n  \"team\": \"Vancouver Canucks\",\\n  \"age\": 29,\\n  \"birth_country\": \"USA\"\\n}'"
      ]
     },
     "execution_count": 9,
     "metadata": {},
     "output_type": "execute_result"
    }
   ],
   "source": [
    "# setting the indent level introduces spacing and newline characters\n",
    "json_string = json.dumps(player, indent = 2)\n",
    "json_string"
   ]
  },
  {
   "cell_type": "code",
   "execution_count": 10,
   "id": "c5e6ae78-8d4a-4d20-b4c4-ac4fa3692eb6",
   "metadata": {},
   "outputs": [
    {
     "name": "stdout",
     "output_type": "stream",
     "text": [
      "{\n",
      "  \"name\": \"JT Miller\",\n",
      "  \"team\": \"Vancouver Canucks\",\n",
      "  \"age\": 29,\n",
      "  \"birth_country\": \"USA\"\n",
      "}\n"
     ]
    }
   ],
   "source": [
    "# These look nice when printed\n",
    "print(json_string)"
   ]
  },
  {
   "cell_type": "code",
   "execution_count": 11,
   "id": "f33fa283-d304-46c7-b990-2b2f1f0fa083",
   "metadata": {},
   "outputs": [
    {
     "data": {
      "text/plain": [
       "{'name': 'Quinn Hughes',\n",
       " 'team': 'Vancouver Canucks',\n",
       " 'age': 24,\n",
       " 'birth_country': 'USA'}"
      ]
     },
     "execution_count": 11,
     "metadata": {},
     "output_type": "execute_result"
    }
   ],
   "source": [
    "# load a string as a dictionary\n",
    "json_string = '{\"name\": \"Quinn Hughes\", \"team\": \"Vancouver Canucks\", \"age\": 24, \"birth_country\": \"USA\"}'\n",
    "\n",
    "# load string as dict\n",
    "player = json.loads(json_string)\n",
    "player"
   ]
  },
  {
   "cell_type": "code",
   "execution_count": null,
   "id": "accfcf64-b83d-475a-97ac-80d7b96d7e98",
   "metadata": {},
   "outputs": [],
   "source": []
  },
  {
   "cell_type": "markdown",
   "id": "a0e9ec9e-8122-490e-a853-653d7b0b8802",
   "metadata": {},
   "source": [
    "# The `os` module\n",
    "This built-in library allows you to perform bash-style commands. We could go deep, but the one I use most is `os.listdir()`\n",
    "\n",
    "Note: you can execute terminal commands in a notebook cell by prepending the command with a `!`"
   ]
  },
  {
   "cell_type": "code",
   "execution_count": 12,
   "id": "2240a71c-fdd4-4ad1-b702-d3a20c68617f",
   "metadata": {},
   "outputs": [],
   "source": [
    "import os"
   ]
  },
  {
   "cell_type": "markdown",
   "id": "5f0cc996-1678-415f-92b4-6cced2ad56e0",
   "metadata": {},
   "source": [
    "###  list files in terminal with `ls`\n",
    "Note: you can execute terminal commands in a notebook cell by prepending the command with a `!`"
   ]
  },
  {
   "cell_type": "code",
   "execution_count": 13,
   "id": "6bf9a532-9671-4128-bd32-3bf3a6298e29",
   "metadata": {},
   "outputs": [
    {
     "name": "stdout",
     "output_type": "stream",
     "text": [
      "earnings.csv\n",
      "player.json\n",
      "text.txt\n"
     ]
    }
   ],
   "source": [
    "!ls temp"
   ]
  },
  {
   "cell_type": "markdown",
   "id": "aa64f9d7-bffc-417e-8a7f-258d34ff2600",
   "metadata": {},
   "source": [
    "#### Do the same thing with `os.listdir()`"
   ]
  },
  {
   "cell_type": "code",
   "execution_count": 14,
   "id": "46547d53-8b2d-4eaf-a0d5-8848bb0b47e2",
   "metadata": {},
   "outputs": [
    {
     "data": {
      "text/plain": [
       "['earnings.csv', 'player.json', 'text.txt']"
      ]
     },
     "execution_count": 14,
     "metadata": {},
     "output_type": "execute_result"
    }
   ],
   "source": [
    "files = os.listdir(\"temp\")\n",
    "files"
   ]
  },
  {
   "cell_type": "code",
   "execution_count": null,
   "id": "7911e870-4a5e-404e-aad4-b8cd7c6e642b",
   "metadata": {},
   "outputs": [],
   "source": []
  },
  {
   "cell_type": "code",
   "execution_count": null,
   "id": "28ebf5e7-3582-4df5-9f7a-439d44078d6e",
   "metadata": {},
   "outputs": [],
   "source": []
  },
  {
   "cell_type": "markdown",
   "id": "b4fb8edc-6b96-41df-a845-68f561d03c46",
   "metadata": {},
   "source": [
    "# Working with time\n",
    "There are useful modules for working with time.\n",
    "\n",
    "### `time.sleep()` is often used to introduce delays"
   ]
  },
  {
   "cell_type": "code",
   "execution_count": 15,
   "id": "c79fd6fc-8146-4b07-b56a-045b2062b434",
   "metadata": {},
   "outputs": [
    {
     "name": "stdout",
     "output_type": "stream",
     "text": [
      "0\n",
      "1\n",
      "2\n",
      "3\n",
      "4\n"
     ]
    }
   ],
   "source": [
    "import time\n",
    "\n",
    "delay_in_seconds = 0.5\n",
    "\n",
    "for i in range(5):\n",
    "    print(i)\n",
    "    time.sleep(delay_in_seconds)"
   ]
  },
  {
   "cell_type": "markdown",
   "id": "8e1ea9d1-dc8f-4403-ba2b-6a665bd81f4e",
   "metadata": {},
   "source": [
    "## The `datetime` library is useful for doing operations on time\n",
    "A datetime object is specified by the `(year,month,date,hour,minute,second)`"
   ]
  },
  {
   "cell_type": "code",
   "execution_count": 16,
   "id": "fc192b7f-7d04-46e1-a068-e87a4ea6ff24",
   "metadata": {},
   "outputs": [
    {
     "data": {
      "text/plain": [
       "datetime.datetime(2024, 6, 25, 15, 15, 34, 936009)"
      ]
     },
     "execution_count": 16,
     "metadata": {},
     "output_type": "execute_result"
    }
   ],
   "source": [
    "from datetime import datetime\n",
    "\n",
    "now = datetime.now()\n",
    "now"
   ]
  },
  {
   "cell_type": "code",
   "execution_count": 17,
   "id": "fcc81469-f973-4675-b655-ea771ab4abd6",
   "metadata": {},
   "outputs": [
    {
     "name": "stdout",
     "output_type": "stream",
     "text": [
      "2024\n",
      "15\n",
      "34\n"
     ]
    }
   ],
   "source": [
    "# You can access elements of a datetime object\n",
    "print(now.year)\n",
    "print(now.hour)\n",
    "print(now.second)"
   ]
  },
  {
   "cell_type": "markdown",
   "id": "ed23147e-4c17-4c79-a37e-9438b2d63a8f",
   "metadata": {},
   "source": [
    "#### Formatting datetimes as strings\n",
    "Use `datetime.strftime()` to format the datetime object into whatever format you need.\n",
    "\n"
   ]
  },
  {
   "cell_type": "code",
   "execution_count": 18,
   "id": "99fed8e0-4892-4adc-a765-9e6cdd767427",
   "metadata": {},
   "outputs": [
    {
     "name": "stdout",
     "output_type": "stream",
     "text": [
      "2024/06/25 15:15:34\n",
      "year=2024, month=06, day=25, time=15:15 seconds=34, and hi Mom!\n"
     ]
    }
   ],
   "source": [
    "# print as formatted string\n",
    "print(now.strftime(\"%Y/%m/%d %H:%M:%S\"))\n",
    "\n",
    "# Note: the %_ characters are standins for datetime elements. The other characters can be anything you want\n",
    "print(now.strftime(\"year=%Y, month=%m, day=%d, time=%H:%M seconds=%S, and hi Mom!\"))"
   ]
  },
  {
   "cell_type": "markdown",
   "id": "6957198e-262c-4367-8514-6ad5e9487b39",
   "metadata": {},
   "source": [
    "#### Formatting directives\n",
    "You can get very specific about the format by using different directives as shown in the table below. \n",
    "\n",
    "|Directive|Meaning|Output Format|\n",
    "| :---------------- | :---------------- | :---------------- |\n",
    "|%a|Abbreviated weekday name.|Sun, Mon,….|\n",
    "|%A|Full weekday name.|Sunday, Monday,…..|\n",
    "|%w|Weekday as a decimal number.|0, 1,….., 6|\n",
    "|%d|Day of the month as a zero added decimal.|01, 02,…., 31|\n",
    "|%-d|Day of the month as a decimal number.|1, 2,…., 30|\n",
    "|%b|Abbreviated month name.|Jan, Feb,…., Dec|\n",
    "|%B|Full month name.|January, February,….|\n",
    "|%m|Month as a zero added decimal number.|01, 02,…., 12|\n",
    "|%-m|Month as a decimal number.|1, 2,….., 12|\n",
    "|%y|Year without century as a zero added decimal number.|00, 01,…, 99|\n",
    "|%-y|Year without century as a decimal number.|0, 1,…, 99|\n",
    "|%Y|Year with century as a decimal number.|2013, 2019 etc.|\n",
    "|%H|Hour (24-hour clock) as a zero added decimal number.|00, 01,….., 23|\n",
    "|%-H|Hour (24-hour clock) as a decimal number.|0, 1,…., 23|\n",
    "|%I|Hour (12-hour clock) as a zero added decimal number.|01, 02,…, 12|\n",
    "|%-I|Hour (12-hour clock) as a decimal number.|1, 2,…,12|\n",
    "|%p|Locale’s AM or PM.|AM, PM|\n",
    "|%M|Minute as a zero added decimal number.|00, 01,…., 59|\n",
    "|%-M|Minute as a decimal number.|0, 1,…, 59|\n",
    "|%S|Second as a zero added decimal number.|00, 01,…, 59|\n",
    "|%-S|Second as a decimal number.|0, 1,…., 59|\n",
    "|%f|Microsecond as a decimal number, zero added on the left.|000000 – |\n",
    "|%z|UTC offset in the form|+HHMM or -HHMM.|\n",
    "|%Z|Time zone name.|\t |\n",
    "|%j\t|Day of the year as a zero added decimal number.|001, 002,….., 366|\n",
    "|%-j|Day of the year as a decimal number.|1, 2,…., 366|\n",
    "|%U|Week number of the year (Sunday as the first day of the week).|All days in a new year preceding the first Sunday are considered to be in week 0.|00, 01,…., 53|\n",
    "|%W|Week number of the year (Monday as the first day of the week).|All days in a new year preceding the first Monday are considered to be in week 0.|00, 01,….., 53|\n",
    "\n",
    "**Note that for windows the `-` must be replaced with `#`. Eg `%-d` becomes `%#d`.**"
   ]
  },
  {
   "cell_type": "code",
   "execution_count": 19,
   "id": "2bdcb0cd-3dc0-4a5f-8348-351ee28be04f",
   "metadata": {},
   "outputs": [
    {
     "name": "stdout",
     "output_type": "stream",
     "text": [
      "June 25, 2024 at 03:15 PM\n"
     ]
    }
   ],
   "source": [
    "# Note: the %_ characters are standins for datetime elements. The other characters can be anythin you want\n",
    "print(now.strftime(\"%B %#d, %Y at %I:%M %p\"))"
   ]
  },
  {
   "cell_type": "markdown",
   "id": "dcf53602-c490-4000-a584-c1380dc057f5",
   "metadata": {},
   "source": [
    "### `timedelta` is used to represent the difference between 2 datetimes"
   ]
  },
  {
   "cell_type": "code",
   "execution_count": 20,
   "id": "aa1c46a9-55c2-4dfd-86cd-3aa7b72ff4e2",
   "metadata": {},
   "outputs": [
    {
     "data": {
      "text/plain": [
       "datetime.timedelta(days=1, seconds=48600)"
      ]
     },
     "execution_count": 20,
     "metadata": {},
     "output_type": "execute_result"
    }
   ],
   "source": [
    "from datetime import timedelta\n",
    "\n",
    "start_dt = datetime(2024,1,1,0,0)\n",
    "end_dt =   datetime(2024,1,2,13,30)\n",
    "\n",
    "delta_t = end_dt - start_dt\n",
    "delta_t"
   ]
  },
  {
   "cell_type": "code",
   "execution_count": 21,
   "id": "249696c1-c094-4d83-b173-7f1506f5bb10",
   "metadata": {},
   "outputs": [
    {
     "data": {
      "text/plain": [
       "135000.0"
      ]
     },
     "execution_count": 21,
     "metadata": {},
     "output_type": "execute_result"
    }
   ],
   "source": [
    "# if you want it in just seconds\n",
    "delta_t.total_seconds()"
   ]
  },
  {
   "cell_type": "code",
   "execution_count": 22,
   "id": "eb9dfa86-0043-47b9-8717-170c68766b3b",
   "metadata": {},
   "outputs": [
    {
     "data": {
      "text/plain": [
       "datetime.datetime(2024, 1, 3, 12, 1)"
      ]
     },
     "execution_count": 22,
     "metadata": {},
     "output_type": "execute_result"
    }
   ],
   "source": [
    "# Add timedelta to a datetime to get the end time\n",
    "start_dt = datetime(2024,1,1,0,0)\n",
    "delta_t =   timedelta(days = 2, hours = 12, minutes = 1)\n",
    "\n",
    "start_dt + delta_t"
   ]
  },
  {
   "cell_type": "markdown",
   "id": "c45998e4-5443-447a-8093-03e3eab5a978",
   "metadata": {},
   "source": [
    "#### Going the other way: string to datetime\n",
    "You can convert a text string to datetime using `datetime.strptime()`"
   ]
  },
  {
   "cell_type": "code",
   "execution_count": 23,
   "id": "b9d72272-9162-41f7-8c5e-7de248c832e4",
   "metadata": {},
   "outputs": [
    {
     "data": {
      "text/plain": [
       "datetime.datetime(2024, 3, 17, 6, 30)"
      ]
     },
     "execution_count": 23,
     "metadata": {},
     "output_type": "execute_result"
    }
   ],
   "source": [
    "# for example this date is in MM/DD/YYYY\n",
    "date_str = \"3/17/2024 6:30\"\n",
    "dt = datetime.strptime(date_str, \"%m/%d/%Y %H:%M\")\n",
    "dt"
   ]
  },
  {
   "cell_type": "code",
   "execution_count": null,
   "id": "fd14b8a8-d55e-4924-b237-885df4a9521b",
   "metadata": {},
   "outputs": [],
   "source": []
  },
  {
   "cell_type": "code",
   "execution_count": null,
   "id": "6bbe21dc-c4ad-4840-9c9e-d69163599e62",
   "metadata": {},
   "outputs": [],
   "source": []
  },
  {
   "cell_type": "code",
   "execution_count": null,
   "id": "845b1216-81d3-4c28-8880-9e879a80051d",
   "metadata": {},
   "outputs": [],
   "source": []
  }
 ],
 "metadata": {
  "kernelspec": {
   "display_name": "Python [conda env:edu]",
   "language": "python",
   "name": "conda-env-edu-py"
  },
  "language_info": {
   "codemirror_mode": {
    "name": "ipython",
    "version": 3
   },
   "file_extension": ".py",
   "mimetype": "text/x-python",
   "name": "python",
   "nbconvert_exporter": "python",
   "pygments_lexer": "ipython3",
   "version": "3.12.3"
  },
  "widgets": {
   "application/vnd.jupyter.widget-state+json": {
    "state": {},
    "version_major": 2,
    "version_minor": 0
   }
  }
 },
 "nbformat": 4,
 "nbformat_minor": 5
}
