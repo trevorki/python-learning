{
 "cells": [
  {
   "cell_type": "markdown",
   "id": "06816866-a93b-44f8-b81e-ff8b0220bbc8",
   "metadata": {},
   "source": [
    "# Basic Python\n",
    "This notebook will demonstrate some basic python operations data types. It's not meant to be a comprehensive guide, but more like a brief tour."
   ]
  },
  {
   "cell_type": "markdown",
   "id": "ab74d1e9-fb33-4c2c-a3c9-9e914da48e1c",
   "metadata": {},
   "source": [
    "## Functions\n",
    "Functions are defined using the following format:\n",
    "```python\n",
    "def function_name(arg1, arg2, optional_arg1 = \"default value\"):\n",
    "    <steps>\n",
    "    return return_value\n",
    "```\n",
    "For a more concrete example, here is a funtion to calculate the hypoteneuse of a right triangle:"
   ]
  },
  {
   "cell_type": "code",
   "execution_count": 1,
   "id": "eb629267-1238-4577-89f0-499281ae8276",
   "metadata": {},
   "outputs": [],
   "source": [
    "def calculate_hypoteneuse(a, b, verbose = False):\n",
    "    c = (a**2 + b**2) ** 0.5\n",
    "    if verbose:\n",
    "        print(\"hypoteneuse =\", c)\n",
    "    return c"
   ]
  },
  {
   "cell_type": "code",
   "execution_count": 2,
   "id": "14803a30-8608-45bf-a486-1da6ce023f99",
   "metadata": {},
   "outputs": [
    {
     "data": {
      "text/plain": [
       "5.0"
      ]
     },
     "execution_count": 2,
     "metadata": {},
     "output_type": "execute_result"
    }
   ],
   "source": [
    "# Call function (with default value verbose = False)\n",
    "c = calculate_hypoteneuse(3, 4)\n",
    "c"
   ]
  },
  {
   "cell_type": "code",
   "execution_count": 3,
   "id": "6b9236c5-8178-43c2-b9cf-b3f70c368b34",
   "metadata": {},
   "outputs": [
    {
     "name": "stdout",
     "output_type": "stream",
     "text": [
      "hypoteneuse = 5.0\n"
     ]
    }
   ],
   "source": [
    "# specify verbose = True\n",
    "c = calculate_hypoteneuse(3, 4, verbose = True)"
   ]
  },
  {
   "cell_type": "markdown",
   "id": "c962b4d8-1fd0-4d20-9a6c-c313bb4afe85",
   "metadata": {},
   "source": [
    "#### Formatting functions\n",
    "That was a bare-bones definition. Proper functions should have docstrings that explain what they do and how to use them, including specifying the dtypes of the parameters and the return type.\n",
    "- the `a: float, b: float, verbose: bool = False` tell you that `a` and `b` ar floats and that `verbose is a boolean. If you try calling the function with different typesan error will be thrown.\n",
    "- the `-> float` tells you that the function will return a float."
   ]
  },
  {
   "cell_type": "code",
   "execution_count": 4,
   "id": "5bbef0fa-f886-49f3-9cdc-247d21c6b401",
   "metadata": {},
   "outputs": [],
   "source": [
    "def calculate_hypoteneuse(a: float, b: float, verbose: bool = False) -> float:\n",
    "    \"\"\"\n",
    "    Calculate the hypotenuse of a right-angled triangle.\n",
    "\n",
    "    Parameters:\n",
    "    a (float): The length of the first side of the triangle.\n",
    "    b (float): The length of the second side of the triangle.\n",
    "    verbose (bool, optional): If True, the function will print the result. Defaults to False.\n",
    "\n",
    "    Returns:\n",
    "    float: The length of the hypotenuse.\n",
    "    \"\"\"\n",
    "    c = (a**2 + b**2) ** 0.5\n",
    "    if verbose:\n",
    "        print(\"hypoteneuse =\", c)\n",
    "    return c"
   ]
  },
  {
   "cell_type": "markdown",
   "id": "55abde4a-351d-40e2-89db-f791ea2d1806",
   "metadata": {},
   "source": [
    "# Strings\n",
    "Strings in Python (dtype: str) are immutable arrays of characters. Python has a bunch of built-in functions that can be called on strings."
   ]
  },
  {
   "cell_type": "code",
   "execution_count": 5,
   "id": "080c6317-074e-43c6-a46f-11aaab2037d0",
   "metadata": {},
   "outputs": [
    {
     "data": {
      "text/plain": [
       "str"
      ]
     },
     "execution_count": 5,
     "metadata": {},
     "output_type": "execute_result"
    }
   ],
   "source": [
    "string = \"I am a giraffe. I have a long neck.\"\n",
    "type(string)"
   ]
  },
  {
   "cell_type": "code",
   "execution_count": 6,
   "id": "216a5e9e-1b03-47b5-83f8-e0042591a5cd",
   "metadata": {},
   "outputs": [
    {
     "data": {
      "text/plain": [
       "35"
      ]
     },
     "execution_count": 6,
     "metadata": {},
     "output_type": "execute_result"
    }
   ],
   "source": [
    "# determine the length in characters\n",
    "len(string)"
   ]
  },
  {
   "cell_type": "code",
   "execution_count": 7,
   "id": "5fc7bde3-935e-4b09-90be-6f8a6231996a",
   "metadata": {},
   "outputs": [
    {
     "data": {
      "text/plain": [
       "'I AM A GIRAFFE. I HAVE A LONG NECK.'"
      ]
     },
     "execution_count": 7,
     "metadata": {},
     "output_type": "execute_result"
    }
   ],
   "source": [
    "# convert to uppercase\n",
    "uppercase_string = string.upper()\n",
    "uppercase_string"
   ]
  },
  {
   "cell_type": "code",
   "execution_count": 8,
   "id": "b82c258f-8c26-4b27-861c-0972607b9c6f",
   "metadata": {},
   "outputs": [
    {
     "data": {
      "text/plain": [
       "'i am a giraffe. i have a long neck.'"
      ]
     },
     "execution_count": 8,
     "metadata": {},
     "output_type": "execute_result"
    }
   ],
   "source": [
    "#conver to lowercase\n",
    "lowercase_string = uppercase_string.lower()\n",
    "lowercase_string"
   ]
  },
  {
   "cell_type": "code",
   "execution_count": 9,
   "id": "49e91e48-f0f2-4d87-a5f8-7e299e83d6e1",
   "metadata": {},
   "outputs": [
    {
     "data": {
      "text/plain": [
       "'I am a giraffe. i have a long neck.'"
      ]
     },
     "execution_count": 9,
     "metadata": {},
     "output_type": "execute_result"
    }
   ],
   "source": [
    "# capitalize the first character\n",
    "lowercase_string.capitalize()"
   ]
  },
  {
   "cell_type": "code",
   "execution_count": 10,
   "id": "ededc460-a605-498d-96ba-c87dcc7d72a8",
   "metadata": {},
   "outputs": [
    {
     "data": {
      "text/plain": [
       "['I', 'am', 'a', 'giraffe.', 'I', 'have', 'a', 'long', 'neck.']"
      ]
     },
     "execution_count": 10,
     "metadata": {},
     "output_type": "execute_result"
    }
   ],
   "source": [
    "# split by space character to return a list of words\n",
    "string.split(\" \")"
   ]
  },
  {
   "cell_type": "code",
   "execution_count": 11,
   "id": "2e5d09dc-da00-4a58-8f66-4cf9013ad158",
   "metadata": {},
   "outputs": [
    {
     "data": {
      "text/plain": [
       "'I am a ostrich. I have a long neck.'"
      ]
     },
     "execution_count": 11,
     "metadata": {},
     "output_type": "execute_result"
    }
   ],
   "source": [
    "# replace substring with another substring\n",
    "string.replace(\"giraffe\", \"ostrich\")"
   ]
  },
  {
   "cell_type": "code",
   "execution_count": 12,
   "id": "80ab350c-53c2-4314-b973-5229cd07fb31",
   "metadata": {},
   "outputs": [
    {
     "data": {
      "text/plain": [
       "'I am giraffe. I have long neck.'"
      ]
     },
     "execution_count": 12,
     "metadata": {},
     "output_type": "execute_result"
    }
   ],
   "source": [
    "# replace substring with another substring\n",
    "string.replace(\" a \", \" \")"
   ]
  },
  {
   "cell_type": "markdown",
   "id": "14ad8c42-74e7-40cf-83bb-e329e6ed0489",
   "metadata": {},
   "source": [
    "## Indexing strings\n",
    "The string's characters can be accesed using their index, which starts at 0. "
   ]
  },
  {
   "cell_type": "code",
   "execution_count": 13,
   "id": "43f3440a-d58a-4537-bafb-26c60e376809",
   "metadata": {},
   "outputs": [
    {
     "data": {
      "text/plain": [
       "'I'"
      ]
     },
     "execution_count": 13,
     "metadata": {},
     "output_type": "execute_result"
    }
   ],
   "source": [
    "string[0]"
   ]
  },
  {
   "cell_type": "code",
   "execution_count": 14,
   "id": "8b9c952d-4912-4e6a-83be-83efb5b88dd9",
   "metadata": {},
   "outputs": [
    {
     "ename": "TypeError",
     "evalue": "'str' object does not support item assignment",
     "output_type": "error",
     "traceback": [
      "\u001b[1;31m---------------------------------------------------------------------------\u001b[0m",
      "\u001b[1;31mTypeError\u001b[0m                                 Traceback (most recent call last)",
      "Cell \u001b[1;32mIn[14], line 2\u001b[0m\n\u001b[0;32m      1\u001b[0m \u001b[38;5;66;03m# you CANNOT change an individual character with indexing STRINGS ARE IMMUTABLE\u001b[39;00m\n\u001b[1;32m----> 2\u001b[0m \u001b[43mstring\u001b[49m\u001b[43m[\u001b[49m\u001b[38;5;241;43m0\u001b[39;49m\u001b[43m]\u001b[49m \u001b[38;5;241m=\u001b[39m \u001b[38;5;124m\"\u001b[39m\u001b[38;5;124mU\u001b[39m\u001b[38;5;124m\"\u001b[39m\n",
      "\u001b[1;31mTypeError\u001b[0m: 'str' object does not support item assignment"
     ]
    }
   ],
   "source": [
    "# you CANNOT change an individual character with indexing STRINGS ARE IMMUTABLE\n",
    "string[0] = \"U\""
   ]
  },
  {
   "cell_type": "markdown",
   "id": "cb6ca24d-474c-4eaf-bdcd-5eae32251adc",
   "metadata": {},
   "source": [
    "### Slicing\n",
    "*Slicing* can be used to extract a range of items by specifying `[start_index:end_index]`. Note that the `end_index` is NOT returned, allowing for easy splitting without overlap."
   ]
  },
  {
   "cell_type": "code",
   "execution_count": 15,
   "id": "98f7f28f-bb32-480b-a842-7a6b415c922f",
   "metadata": {},
   "outputs": [
    {
     "name": "stdout",
     "output_type": "stream",
     "text": [
      "I am a gir\n",
      "affe. I have a long neck.\n"
     ]
    }
   ],
   "source": [
    "# the first 10 characters\n",
    "print(string[0:10])\n",
    "\n",
    "# the remaining after the first 10 characters\n",
    "print(string[10:])"
   ]
  },
  {
   "cell_type": "markdown",
   "id": "8401fff7-07ae-4339-9b9c-84f1e93f8017",
   "metadata": {},
   "source": [
    "In python you can use negative indeces, where `-1` corresponds to the last item, `-2` to the 2nd last, etc."
   ]
  },
  {
   "cell_type": "code",
   "execution_count": 16,
   "id": "c0f4a85f-3313-49b3-8dce-6e0d7f616a2e",
   "metadata": {},
   "outputs": [
    {
     "data": {
      "text/plain": [
       "'.'"
      ]
     },
     "execution_count": 16,
     "metadata": {},
     "output_type": "execute_result"
    }
   ],
   "source": [
    "# The last character\n",
    "string[-1]"
   ]
  },
  {
   "cell_type": "code",
   "execution_count": 17,
   "id": "063d0bdd-c7cb-4ea5-9fe6-fb95e9b9ece0",
   "metadata": {},
   "outputs": [
    {
     "data": {
      "text/plain": [
       "'neck'"
      ]
     },
     "execution_count": 17,
     "metadata": {},
     "output_type": "execute_result"
    }
   ],
   "source": [
    "# The last 4 characters\n",
    "string[-5:-1]"
   ]
  },
  {
   "cell_type": "code",
   "execution_count": 18,
   "id": "8bf422fb-af0c-4348-9e62-c1bbf19504d0",
   "metadata": {},
   "outputs": [
    {
     "data": {
      "text/plain": [
       "'neck.'"
      ]
     },
     "execution_count": 18,
     "metadata": {},
     "output_type": "execute_result"
    }
   ],
   "source": [
    "# The last 5 characters\n",
    "string[-5:]"
   ]
  },
  {
   "cell_type": "markdown",
   "id": "6108091f-d73f-4c7f-bcce-b787325474a8",
   "metadata": {},
   "source": [
    "# Lists\n",
    "Are mutable arrays that can contain any mixture of data type, even other lists. List indeces in Python always start at 0."
   ]
  },
  {
   "cell_type": "code",
   "execution_count": 19,
   "id": "3ea9909a-af8a-4d37-b8d9-b14cb538fd57",
   "metadata": {},
   "outputs": [
    {
     "name": "stdout",
     "output_type": "stream",
     "text": [
      "length of list = 4\n"
     ]
    },
    {
     "data": {
      "text/plain": [
       "['1', 2, None, ['a', 'b']]"
      ]
     },
     "execution_count": 19,
     "metadata": {},
     "output_type": "execute_result"
    }
   ],
   "source": [
    "l = [\"1\", 2, None, [\"a\", \"b\"]]\n",
    "\n",
    "# use len() to get the length\n",
    "print(\"length of list =\",  len(l))\n",
    "\n",
    "l"
   ]
  },
  {
   "cell_type": "code",
   "execution_count": 20,
   "id": "e1932b19-1c88-49bd-8af5-83c65f938f61",
   "metadata": {},
   "outputs": [
    {
     "data": {
      "text/plain": [
       "[1, 2, None, ['a', 'b']]"
      ]
     },
     "execution_count": 20,
     "metadata": {},
     "output_type": "execute_result"
    }
   ],
   "source": [
    "# lists are mutable\n",
    "l[0] = 1\n",
    "l"
   ]
  },
  {
   "cell_type": "code",
   "execution_count": 21,
   "id": "152bbb5e-4690-4f12-b330-a131ebb0315b",
   "metadata": {},
   "outputs": [
    {
     "name": "stdout",
     "output_type": "stream",
     "text": [
      "['a', 'b']\n",
      "a\n"
     ]
    }
   ],
   "source": [
    "# since l[3] is a list\n",
    "print(l[3])\n",
    "\n",
    "# you can use two indeces to access its members\n",
    "print(l[3][0])\n"
   ]
  },
  {
   "cell_type": "code",
   "execution_count": 22,
   "id": "21a7be27-f82e-48e1-b3f1-0861f6c2a476",
   "metadata": {},
   "outputs": [
    {
     "name": "stdout",
     "output_type": "stream",
     "text": [
      "[0, 1, 2, 3, 4, 5, 6, 7, 8, 9]\n",
      "[1, 2, 3, 4, 5, 6, 7, 8, 9]\n",
      "[1, 3, 5, 7, 9]\n"
     ]
    }
   ],
   "source": [
    "# make a list containing a range of numbers\n",
    "print(list(range(10)))\n",
    "\n",
    "# with a specific start and end value\n",
    "print(list(range(1, 10)))\n",
    "\n",
    "# with a specific start and end value AND step size\n",
    "print(list(range(1, 10, 2)))"
   ]
  },
  {
   "cell_type": "markdown",
   "id": "b76f5a10-5eef-44e5-aff9-1499f931b93b",
   "metadata": {},
   "source": [
    "### Adding/Removing from lists\n",
    "\n",
    "You can add to a list with the `append()`"
   ]
  },
  {
   "cell_type": "code",
   "execution_count": 23,
   "id": "479bd755-6dde-4291-80a8-5a7a596e5186",
   "metadata": {},
   "outputs": [
    {
     "data": {
      "text/plain": [
       "['orange', 'apple', 'banana', 'mango', 'apple']"
      ]
     },
     "execution_count": 23,
     "metadata": {},
     "output_type": "execute_result"
    }
   ],
   "source": [
    "l = [\"orange\", \"apple\", \"banana\"]\n",
    "l.append(\"mango\")\n",
    "l.append(\"apple\")\n",
    "l"
   ]
  },
  {
   "cell_type": "markdown",
   "id": "1ae95861-9305-4de3-a974-24c476bf775d",
   "metadata": {},
   "source": [
    "You can remove an item from a list with the `remove()` command. This will remove the FIRST occurence in the list"
   ]
  },
  {
   "cell_type": "code",
   "execution_count": 24,
   "id": "2804a90d-8aed-44c0-851b-f6e8e5c550dc",
   "metadata": {},
   "outputs": [
    {
     "data": {
      "text/plain": [
       "['orange', 'apple', 'banana', 'apple']"
      ]
     },
     "execution_count": 24,
     "metadata": {},
     "output_type": "execute_result"
    }
   ],
   "source": [
    "l.remove(\"mango\")\n",
    "l"
   ]
  },
  {
   "cell_type": "code",
   "execution_count": 25,
   "id": "2a04ac6a-eba6-402a-940f-d4a47c9de8df",
   "metadata": {},
   "outputs": [
    {
     "data": {
      "text/plain": [
       "['orange', 'banana', 'apple']"
      ]
     },
     "execution_count": 25,
     "metadata": {},
     "output_type": "execute_result"
    }
   ],
   "source": [
    "# only removes the first \"apple\"\n",
    "l.remove(\"apple\")\n",
    "l"
   ]
  },
  {
   "cell_type": "markdown",
   "id": "3b2e00a6-f558-49d0-8258-c7714ef721e5",
   "metadata": {},
   "source": [
    "### Sorting lists\n",
    "Lists can be sorted numerically or alphabetically"
   ]
  },
  {
   "cell_type": "code",
   "execution_count": 26,
   "id": "7f241830-4385-4ce0-b594-79fa21e1a9c3",
   "metadata": {},
   "outputs": [
    {
     "name": "stdout",
     "output_type": "stream",
     "text": [
      "None\n",
      "['apple', 'banana', 'orange']\n"
     ]
    }
   ],
   "source": [
    "# list.sort() sorts a list in-place and returns None\n",
    "\n",
    "l = [\"orange\", \"apple\", \"banana\"]\n",
    "print(l.sort())\n",
    "print(l)"
   ]
  },
  {
   "cell_type": "code",
   "execution_count": 27,
   "id": "1f0b8c67-4e46-4456-a1b1-503dd56c50ec",
   "metadata": {},
   "outputs": [
    {
     "data": {
      "text/plain": [
       "['orange', 'banana', 'apple']"
      ]
     },
     "execution_count": 27,
     "metadata": {},
     "output_type": "execute_result"
    }
   ],
   "source": [
    "# reverse the sorting order (modifies list in memory, returns None)\n",
    "l = [\"orange\", \"apple\", \"banana\"]\n",
    "l.sort(reverse=True)\n",
    "l"
   ]
  },
  {
   "cell_type": "code",
   "execution_count": 28,
   "id": "a58ca7ce-ab36-4a8c-957a-a56b3566be67",
   "metadata": {},
   "outputs": [
    {
     "name": "stdout",
     "output_type": "stream",
     "text": [
      "['apple', 'banana', 'orange']\n",
      "['orange', 'apple', 'banana']\n"
     ]
    }
   ],
   "source": [
    "# sorted(list) returns a sorted list but leaves the list unchanged in memory\n",
    "\n",
    "l = [\"orange\", \"apple\", \"banana\"]\n",
    "print(sorted(l))\n",
    "print(l)"
   ]
  },
  {
   "cell_type": "code",
   "execution_count": 29,
   "id": "b611d196-10eb-466b-ad74-96d2097d9ee2",
   "metadata": {},
   "outputs": [
    {
     "data": {
      "text/plain": [
       "['three', 'two', 'one']"
      ]
     },
     "execution_count": 29,
     "metadata": {},
     "output_type": "execute_result"
    }
   ],
   "source": [
    "# use `[::-1]` to index the list in reverse order, leaves list unchanged in memory\n",
    "l = [\"one\", \"two\", \"three\"]\n",
    "l[::-1]"
   ]
  },
  {
   "cell_type": "markdown",
   "id": "7f03c0d8-1f43-4cc1-9f96-83577428997f",
   "metadata": {},
   "source": [
    "### Enumerating lists\n",
    "Useful when selecting items from a long list or iterating through a for loop."
   ]
  },
  {
   "cell_type": "code",
   "execution_count": 30,
   "id": "b0d26c0f-edd6-4fb1-87d6-9238cffa2c48",
   "metadata": {},
   "outputs": [
    {
     "name": "stdout",
     "output_type": "stream",
     "text": [
      "0 orange\n",
      "1 apple\n",
      "2 banana\n",
      "3 mango\n",
      "4 blueberry\n"
     ]
    }
   ],
   "source": [
    "fruits = [\"orange\", \"apple\", \"banana\", \"mango\", \"blueberry\"]\n",
    "\n",
    "for i, fruit in enumerate(fruits):\n",
    "    print(i, fruit)"
   ]
  },
  {
   "cell_type": "code",
   "execution_count": 31,
   "id": "65028ed8-08e5-49c5-90c2-46ff08c1ffab",
   "metadata": {},
   "outputs": [
    {
     "name": "stdout",
     "output_type": "stream",
     "text": [
      "10 orange\n",
      "11 apple\n",
      "12 banana\n",
      "13 mango\n",
      "14 blueberry\n"
     ]
    }
   ],
   "source": [
    "# optionally choose the starting index instead of default 0\n",
    "for i, fruit in enumerate(fruits, start = 10):\n",
    "    print(i, fruit)"
   ]
  },
  {
   "cell_type": "markdown",
   "id": "2192b095-7775-46a4-9dc4-6eae1facf743",
   "metadata": {},
   "source": [
    "### Zipping lists\n",
    "Useful to iterate through lists together"
   ]
  },
  {
   "cell_type": "code",
   "execution_count": 32,
   "id": "69f0837f-fe6a-4f4f-9524-92b3a79651e1",
   "metadata": {},
   "outputs": [
    {
     "name": "stdout",
     "output_type": "stream",
     "text": [
      "orange cookie\n",
      "apple pie\n",
      "banana cake\n",
      "mango pudding\n",
      "blueberry jelly\n"
     ]
    }
   ],
   "source": [
    "fruits = [\"orange\", \"apple\", \"banana\", \"mango\", \"blueberry\"]\n",
    "desserts = [\"cookie\", \"pie\", \"cake\", \"pudding\", \"jelly\"]\n",
    "\n",
    "for fruit, dessert in zip(fruits, desserts):\n",
    "    print(fruit, dessert)"
   ]
  },
  {
   "cell_type": "markdown",
   "id": "17ac8fee-8807-46af-b5b8-106437d7cb5f",
   "metadata": {},
   "source": [
    "### List comprehensions\n",
    "A compact way of iterating through a list with a for loop.\n",
    "\n",
    "**Syntax of list comprehension:** `[<do this thing> for <element> in <list>]`"
   ]
  },
  {
   "cell_type": "code",
   "execution_count": 33,
   "id": "e7683bee-96ff-4bde-a301-d03990a80d1a",
   "metadata": {},
   "outputs": [
    {
     "data": {
      "text/plain": [
       "['Orange', 'Apple', 'Banana', 'Mango', 'Blueberry']"
      ]
     },
     "execution_count": 33,
     "metadata": {},
     "output_type": "execute_result"
    }
   ],
   "source": [
    "# Basic iterating through a list WITHOUT list comprehension:\n",
    "fruits = [\"orange\", \"apple\", \"banana\", \"mango\", \"blueberry\"]\n",
    "\n",
    "capitalized_fruits = [] # list to hold result\n",
    "for fruit in fruits:\n",
    "    capitalized_fruits.append(fruit.capitalize())\n",
    "capitalized_fruits"
   ]
  },
  {
   "cell_type": "code",
   "execution_count": 34,
   "id": "cc97f73d-e76a-4c06-9c9f-dba56a90ea08",
   "metadata": {},
   "outputs": [
    {
     "data": {
      "text/plain": [
       "['Orange', 'Apple', 'Banana', 'Mango', 'Blueberry']"
      ]
     },
     "execution_count": 34,
     "metadata": {},
     "output_type": "execute_result"
    }
   ],
   "source": [
    "# We can do this in on line WITH a list comprehension\n",
    "fruits = [\"orange\", \"apple\", \"banana\", \"mango\", \"blueberry\"]\n",
    "\n",
    "capitalized_fruits = [fruit.capitalize() for fruit in fruits]\n",
    "capitalized_fruits"
   ]
  },
  {
   "cell_type": "markdown",
   "id": "0667c0ad-dc12-437f-ad03-87b8446669b4",
   "metadata": {},
   "source": [
    "You can add a condition to the list comprehension"
   ]
  },
  {
   "cell_type": "code",
   "execution_count": 35,
   "id": "4a209934-48dc-4d7b-a2a5-6a9d3806ae2c",
   "metadata": {},
   "outputs": [
    {
     "data": {
      "text/plain": [
       "['Orange', 'Apple', 'Mango', 'Blueberry']"
      ]
     },
     "execution_count": 35,
     "metadata": {},
     "output_type": "execute_result"
    }
   ],
   "source": [
    "# leave banana out of capitalized list\n",
    "[fruit.capitalize() for fruit in fruits if fruit!=\"banana\"]"
   ]
  },
  {
   "cell_type": "code",
   "execution_count": 36,
   "id": "b26eb291-c89d-43e2-9046-ba99cc1ed264",
   "metadata": {},
   "outputs": [
    {
     "data": {
      "text/plain": [
       "['Orange', 'Apple', 'banana', 'Mango', 'Blueberry']"
      ]
     },
     "execution_count": 36,
     "metadata": {},
     "output_type": "execute_result"
    }
   ],
   "source": [
    "# Include banana but don't capitalize it\n",
    "[fruit.capitalize() if fruit!=\"banana\" else fruit for fruit in fruits ]"
   ]
  },
  {
   "cell_type": "markdown",
   "id": "2ae32799-bc14-44b7-a710-bfcaf1bdb302",
   "metadata": {},
   "source": [
    "## Dictionaries\n",
    "Python dictionaries (essentially hash maps) are very useful and flexible data structures that hold key-value pairs of practically any type. They are denoted by curly braces `{}`.\n",
    "\n",
    "They also can be saved to or read from JSON files, making them a handy portable way to store and transfer data."
   ]
  },
  {
   "cell_type": "code",
   "execution_count": 37,
   "id": "831e8fb6-eb32-45cd-aa05-bfe640415d34",
   "metadata": {},
   "outputs": [],
   "source": [
    "# define a dictionary\n",
    "student = {\n",
    "    \"name\": \"Sam\",\n",
    "    \"age\": 16,\n",
    "    \"height\": 1.58,\n",
    "}"
   ]
  },
  {
   "cell_type": "code",
   "execution_count": 38,
   "id": "bc2683e9-f84e-4c84-93f2-75f37034f088",
   "metadata": {},
   "outputs": [
    {
     "data": {
      "text/plain": [
       "'Sam'"
      ]
     },
     "execution_count": 38,
     "metadata": {},
     "output_type": "execute_result"
    }
   ],
   "source": [
    "# access any value using its key\n",
    "student[\"name\"]"
   ]
  },
  {
   "cell_type": "code",
   "execution_count": 39,
   "id": "374ba4f9-ec90-495c-86f9-f64374968590",
   "metadata": {},
   "outputs": [
    {
     "data": {
      "text/plain": [
       "'Sam'"
      ]
     },
     "execution_count": 39,
     "metadata": {},
     "output_type": "execute_result"
    }
   ],
   "source": [
    "# or by using the get() method\n",
    "student.get(\"name\")"
   ]
  },
  {
   "cell_type": "code",
   "execution_count": 40,
   "id": "0b2a9c4b-4537-4c6c-8c5f-d63ef8586a82",
   "metadata": {},
   "outputs": [
    {
     "data": {
      "text/plain": [
       "{'name': 'Sam', 'age': 17, 'height': 1.58}"
      ]
     },
     "execution_count": 40,
     "metadata": {},
     "output_type": "execute_result"
    }
   ],
   "source": [
    "# change a value\n",
    "student[\"age\"] = 17\n",
    "student"
   ]
  },
  {
   "cell_type": "code",
   "execution_count": 41,
   "id": "bb8ec712-c8f0-4bae-b6b3-7fb971cce20c",
   "metadata": {},
   "outputs": [
    {
     "data": {
      "text/plain": [
       "{'name': 'Sam',\n",
       " 'age': 17,\n",
       " 'height': 1.58,\n",
       " 'loves dogs': True,\n",
       " 'favourite colour': 'red'}"
      ]
     },
     "execution_count": 41,
     "metadata": {},
     "output_type": "execute_result"
    }
   ],
   "source": [
    "# add a new key\n",
    "student[\"loves dogs\"] = True\n",
    "student[\"favourite colour\"] = \"red\"\n",
    "student"
   ]
  },
  {
   "cell_type": "code",
   "execution_count": 42,
   "id": "30f96223-e9c2-4073-a161-fe7a33cda815",
   "metadata": {},
   "outputs": [
    {
     "data": {
      "text/plain": [
       "{'name': 'Sam', 'age': 17, 'height': 1.58, 'loves dogs': True}"
      ]
     },
     "execution_count": 42,
     "metadata": {},
     "output_type": "execute_result"
    }
   ],
   "source": [
    "# delete a key\n",
    "del student[\"favourite colour\"]\n",
    "student"
   ]
  },
  {
   "cell_type": "code",
   "execution_count": 43,
   "id": "d5be303b-941d-4c56-9289-f08c6a42882b",
   "metadata": {},
   "outputs": [
    {
     "ename": "KeyError",
     "evalue": "'address'",
     "output_type": "error",
     "traceback": [
      "\u001b[1;31m---------------------------------------------------------------------------\u001b[0m",
      "\u001b[1;31mKeyError\u001b[0m                                  Traceback (most recent call last)",
      "Cell \u001b[1;32mIn[43], line 2\u001b[0m\n\u001b[0;32m      1\u001b[0m \u001b[38;5;66;03m# if you try to access a key that doesn't exist you get a key error\u001b[39;00m\n\u001b[1;32m----> 2\u001b[0m \u001b[43mstudent\u001b[49m\u001b[43m[\u001b[49m\u001b[38;5;124;43m\"\u001b[39;49m\u001b[38;5;124;43maddress\u001b[39;49m\u001b[38;5;124;43m\"\u001b[39;49m\u001b[43m]\u001b[49m\n",
      "\u001b[1;31mKeyError\u001b[0m: 'address'"
     ]
    }
   ],
   "source": [
    "# if you try to access a key that doesn't exist you get a key error\n",
    "student[\"address\"]"
   ]
  },
  {
   "cell_type": "code",
   "execution_count": 44,
   "id": "d9c1c41a-39de-467b-937f-1ec55aac92b3",
   "metadata": {},
   "outputs": [
    {
     "data": {
      "text/plain": [
       "dict_items([('name', 'Sam'), ('age', 17), ('height', 1.58), ('loves dogs', True)])"
      ]
     },
     "execution_count": 44,
     "metadata": {},
     "output_type": "execute_result"
    }
   ],
   "source": [
    "# list the key-value pairs as tuples with .items()\n",
    "student.items()"
   ]
  },
  {
   "cell_type": "code",
   "execution_count": 45,
   "id": "46bb83de-2bf9-4b54-829c-5d6081facbe1",
   "metadata": {},
   "outputs": [
    {
     "name": "stdout",
     "output_type": "stream",
     "text": [
      "name = Sam\n",
      "age = 17\n",
      "height = 1.58\n",
      "loves dogs = True\n"
     ]
    }
   ],
   "source": [
    "for key, value in student.items():\n",
    "    print(key, \"=\", value)"
   ]
  },
  {
   "cell_type": "code",
   "execution_count": null,
   "id": "c0c5f702-f68a-4722-92a7-a0f1f4fc7b8b",
   "metadata": {},
   "outputs": [],
   "source": []
  },
  {
   "cell_type": "code",
   "execution_count": null,
   "id": "845b1216-81d3-4c28-8880-9e879a80051d",
   "metadata": {},
   "outputs": [],
   "source": []
  }
 ],
 "metadata": {
  "kernelspec": {
   "display_name": "Python [conda env:edu]",
   "language": "python",
   "name": "conda-env-edu-py"
  },
  "language_info": {
   "codemirror_mode": {
    "name": "ipython",
    "version": 3
   },
   "file_extension": ".py",
   "mimetype": "text/x-python",
   "name": "python",
   "nbconvert_exporter": "python",
   "pygments_lexer": "ipython3",
   "version": "3.12.3"
  },
  "widgets": {
   "application/vnd.jupyter.widget-state+json": {
    "state": {},
    "version_major": 2,
    "version_minor": 0
   }
  }
 },
 "nbformat": 4,
 "nbformat_minor": 5
}
