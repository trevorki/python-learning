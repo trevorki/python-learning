{
 "cells": [
  {
   "cell_type": "markdown",
   "id": "a49b22a5-756f-41b4-be41-f957ff2e9388",
   "metadata": {},
   "source": [
    "# Beginner's Guide to Jupyter Notebooks\n",
    "## 1. What is a Jupyter Notebook?\n",
    "A Jupyter Notebook is an interactive document that can contain live code, equations, visualizations, and explanatory text. It's great for learning programming, data analysis, and creating shareable documents.\n",
    "\n",
    "\n",
    "## 2. Understanding Cells\n",
    "Notebooks are made up of cells. There are two main types:\n",
    "\n",
    "- **Code cells**: For writing and running code. To execute the code press CTRL+ENTER.\n",
    "- **Markdown cells**: For writing text explanations (this cell is a markdown cell). You can edit it by doble clicking on the cell. Press CTRL+ENTER to stop editing."
   ]
  },
  {
   "cell_type": "code",
   "execution_count": null,
   "id": "9940fed1-ccef-4cc0-a373-fb0098286ed1",
   "metadata": {},
   "outputs": [],
   "source": []
  },
  {
   "cell_type": "code",
   "execution_count": null,
   "id": "77c8e283-1a84-4313-b0e5-6021a28061f3",
   "metadata": {},
   "outputs": [],
   "source": []
  },
  {
   "cell_type": "markdown",
   "id": "12f206d4-c3e4-4e12-9572-193b3b1b0520",
   "metadata": {},
   "source": [
    "### Code Cells\n",
    "\n",
    "By default, new cells are code cells\n",
    "Type your Python code into a cell, for example:"
   ]
  },
  {
   "cell_type": "code",
   "execution_count": 1,
   "id": "cd324d8c-f675-484a-b965-41b7f37496bc",
   "metadata": {},
   "outputs": [
    {
     "name": "stdout",
     "output_type": "stream",
     "text": [
      "Hello, Jupyter!\n"
     ]
    }
   ],
   "source": [
    "print(\"Hello, Jupyter!\")"
   ]
  },
  {
   "cell_type": "markdown",
   "id": "6b97a918-8e5b-4990-97e7-ea91c7652ee5",
   "metadata": {},
   "source": [
    "To run the cell, click the \"Run\" button in the toolbar, or use the keyboard shortcut Shift+Enter. The output will appear below the cell."
   ]
  },
  {
   "cell_type": "code",
   "execution_count": 2,
   "id": "25e400a6-5922-4291-bf06-8cfb1cca663c",
   "metadata": {},
   "outputs": [
    {
     "data": {
      "text/plain": [
       "15"
      ]
     },
     "execution_count": 2,
     "metadata": {},
     "output_type": "execute_result"
    }
   ],
   "source": [
    "# Note that the last line will be evaluated and printed as output\n",
    "x = 5\n",
    "y = 10\n",
    "x+y"
   ]
  },
  {
   "cell_type": "markdown",
   "id": "59e53a3f-66a9-4f41-b38c-2e481ab1916f",
   "metadata": {},
   "source": [
    "### Markdown Cells\n",
    "Write your text using Markdown syntax, for example:\n",
    "```markdown\n",
    "# This is a heading\n",
    "## This is a subheding\n",
    "This is normal text. You can make things **bold** or *italic*.\n",
    "- this is a list item\n",
    "```\n",
    "\n",
    "Run the cell to render the Markdown. See [__here__](https://www.markdownguide.org/basic-syntax/) for a guide to markdown syntax."
   ]
  },
  {
   "cell_type": "markdown",
   "id": "72e43ef1-3384-49d6-8e00-24860116794d",
   "metadata": {},
   "source": [
    "## 3. Cell Operations\n",
    "\n",
    "In Jupyter Notebooks, there are two main modes for interacting with cells:\n",
    "\n",
    "- **Edit Mode**: This is when you're actively typing in a cell. Typically you will be in edit mode hile working.\n",
    "- **Command Mode**: This is for performing actions on cells as a whole. You'll know you're in Command Mode when the left border of the cell turns blue. \n",
    "\n",
    "To enter Command Mode: press Esc when in a cell, OR click outside the cell's text area.\n",
    "\n",
    "\n",
    "Here are some helpful shortcuts to use when in Command Mode:\n",
    "\n",
    "- A: Insert a new cell above the current cell\n",
    "- B: Insert a new cell below the current cell\n",
    "- D D: (Press D twice) Delete the current cell\n",
    "- Y: Change cell to Code mode\n",
    "- M: Change cell to Markdown mode\n",
    "- Shift + Up Arrow: Select the current cell and the cell above\n",
    "- Shift + Down Arrow: Select the current cell and the cell below\n",
    "- Shift + M: Merge selected cells\n",
    "- Up Arrow / Down Arrow: Navigate between cells\n",
    "- Shift + Space: Scroll notebook up\n",
    "- Space: Scroll notebook down\n",
    "- L: Toggle line numbers in the current cell\n"
   ]
  },
  {
   "cell_type": "markdown",
   "id": "ac791096-6cb9-47d5-bc45-170741aef720",
   "metadata": {},
   "source": [
    "## 4. Saving Your Work\n",
    "\n",
    "Jupyter auto-saves your work every few minutes. Its previous save checlpoints are found in the `.ipynb_checkpoints` hidden folder.\n",
    "\n",
    "To manually save, click the floppy disk icon in the toolbar, or use Ctrl+S (Cmd+S on Mac)"
   ]
  },
  {
   "cell_type": "markdown",
   "id": "a350fa4d-8beb-4a1d-a006-12a1b6b104ba",
   "metadata": {},
   "source": [
    "## 5. Helpful Features\n",
    "- Code Completion: When typing code, press Tab to see suggested completions.\n",
    "- Getting Help: To get information about a function or module: Type the name followed by a question mark, e.g., print?\n",
    "Run the cell"
   ]
  },
  {
   "cell_type": "code",
   "execution_count": 3,
   "id": "f5976581-1548-4eff-9b39-1c62a883cf6e",
   "metadata": {},
   "outputs": [
    {
     "data": {
      "text/plain": [
       "\u001b[1;31mSignature:\u001b[0m \u001b[0mprint\u001b[0m\u001b[1;33m(\u001b[0m\u001b[1;33m*\u001b[0m\u001b[0margs\u001b[0m\u001b[1;33m,\u001b[0m \u001b[0msep\u001b[0m\u001b[1;33m=\u001b[0m\u001b[1;34m' '\u001b[0m\u001b[1;33m,\u001b[0m \u001b[0mend\u001b[0m\u001b[1;33m=\u001b[0m\u001b[1;34m'\\n'\u001b[0m\u001b[1;33m,\u001b[0m \u001b[0mfile\u001b[0m\u001b[1;33m=\u001b[0m\u001b[1;32mNone\u001b[0m\u001b[1;33m,\u001b[0m \u001b[0mflush\u001b[0m\u001b[1;33m=\u001b[0m\u001b[1;32mFalse\u001b[0m\u001b[1;33m)\u001b[0m\u001b[1;33m\u001b[0m\u001b[1;33m\u001b[0m\u001b[0m\n",
       "\u001b[1;31mDocstring:\u001b[0m\n",
       "Prints the values to a stream, or to sys.stdout by default.\n",
       "\n",
       "sep\n",
       "  string inserted between values, default a space.\n",
       "end\n",
       "  string appended after the last value, default a newline.\n",
       "file\n",
       "  a file-like object (stream); defaults to the current sys.stdout.\n",
       "flush\n",
       "  whether to forcibly flush the stream.\n",
       "\u001b[1;31mType:\u001b[0m      builtin_function_or_method"
      ]
     },
     "metadata": {},
     "output_type": "display_data"
    }
   ],
   "source": [
    "print?"
   ]
  },
  {
   "cell_type": "code",
   "execution_count": null,
   "id": "9c87b974-8d7f-4353-a9c1-de83c3f1ee13",
   "metadata": {},
   "outputs": [],
   "source": []
  }
 ],
 "metadata": {
  "kernelspec": {
   "display_name": "Python [conda env:py]",
   "language": "python",
   "name": "conda-env-py-py"
  },
  "language_info": {
   "codemirror_mode": {
    "name": "ipython",
    "version": 3
   },
   "file_extension": ".py",
   "mimetype": "text/x-python",
   "name": "python",
   "nbconvert_exporter": "python",
   "pygments_lexer": "ipython3",
   "version": "3.12.4"
  },
  "widgets": {
   "application/vnd.jupyter.widget-state+json": {
    "state": {},
    "version_major": 2,
    "version_minor": 0
   }
  }
 },
 "nbformat": 4,
 "nbformat_minor": 5
}
